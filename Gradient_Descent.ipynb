{
  "nbformat": 4,
  "nbformat_minor": 0,
  "metadata": {
    "colab": {
      "name": "Gradient Descent.ipynb",
      "provenance": []
    },
    "kernelspec": {
      "name": "python3",
      "display_name": "Python 3"
    }
  },
  "cells": [
    {
      "cell_type": "code",
      "metadata": {
        "colab": {
          "base_uri": "https://localhost:8080/",
          "height": 195
        },
        "id": "TTZbWdOsIwdB",
        "outputId": "3dc68860-306c-44a5-8738-361e6a43b4f5"
      },
      "source": [
        "import pandas as pd\r\n",
        "import numpy as np\r\n",
        "\r\n",
        "import warnings\r\n",
        "warnings.filterwarnings('ignore')\r\n",
        "sales_df=pd.read_csv(\"Advertising.csv\")\r\n",
        "drop_list = [\"Unnamed: 0\"]\r\n",
        "\r\n",
        "sales_df = sales_df.drop(drop_list, axis=1)\r\n",
        "sales_df.head()"
      ],
      "execution_count": null,
      "outputs": [
        {
          "output_type": "execute_result",
          "data": {
            "text/html": [
              "<div>\n",
              "<style scoped>\n",
              "    .dataframe tbody tr th:only-of-type {\n",
              "        vertical-align: middle;\n",
              "    }\n",
              "\n",
              "    .dataframe tbody tr th {\n",
              "        vertical-align: top;\n",
              "    }\n",
              "\n",
              "    .dataframe thead th {\n",
              "        text-align: right;\n",
              "    }\n",
              "</style>\n",
              "<table border=\"1\" class=\"dataframe\">\n",
              "  <thead>\n",
              "    <tr style=\"text-align: right;\">\n",
              "      <th></th>\n",
              "      <th>TV</th>\n",
              "      <th>Radio</th>\n",
              "      <th>Newspaper</th>\n",
              "      <th>Sales</th>\n",
              "    </tr>\n",
              "  </thead>\n",
              "  <tbody>\n",
              "    <tr>\n",
              "      <th>0</th>\n",
              "      <td>230.1</td>\n",
              "      <td>37.8</td>\n",
              "      <td>69.2</td>\n",
              "      <td>22.1</td>\n",
              "    </tr>\n",
              "    <tr>\n",
              "      <th>1</th>\n",
              "      <td>44.5</td>\n",
              "      <td>39.3</td>\n",
              "      <td>45.1</td>\n",
              "      <td>10.4</td>\n",
              "    </tr>\n",
              "    <tr>\n",
              "      <th>2</th>\n",
              "      <td>17.2</td>\n",
              "      <td>45.9</td>\n",
              "      <td>69.3</td>\n",
              "      <td>9.3</td>\n",
              "    </tr>\n",
              "    <tr>\n",
              "      <th>3</th>\n",
              "      <td>151.5</td>\n",
              "      <td>41.3</td>\n",
              "      <td>58.5</td>\n",
              "      <td>18.5</td>\n",
              "    </tr>\n",
              "    <tr>\n",
              "      <th>4</th>\n",
              "      <td>180.8</td>\n",
              "      <td>10.8</td>\n",
              "      <td>58.4</td>\n",
              "      <td>12.9</td>\n",
              "    </tr>\n",
              "  </tbody>\n",
              "</table>\n",
              "</div>"
            ],
            "text/plain": [
              "      TV  Radio  Newspaper  Sales\n",
              "0  230.1   37.8       69.2   22.1\n",
              "1   44.5   39.3       45.1   10.4\n",
              "2   17.2   45.9       69.3    9.3\n",
              "3  151.5   41.3       58.5   18.5\n",
              "4  180.8   10.8       58.4   12.9"
            ]
          },
          "metadata": {
            "tags": []
          },
          "execution_count": 1
        }
      ]
    },
    {
      "cell_type": "code",
      "metadata": {
        "id": "gC9-YifJUHY8"
      },
      "source": [
        "x=sales_df[['TV','Radio','Newspaper']]\r\n",
        "y=sales_df['Sales']"
      ],
      "execution_count": null,
      "outputs": []
    },
    {
      "cell_type": "code",
      "metadata": {
        "id": "6yF1zrugUYck"
      },
      "source": [
        "#to standardize X nad Y features\r\n",
        "y=np.array((y-y.mean())/y.std())\r\n",
        "x=x.apply(lambda rec:(rec-rec.mean())/rec.std(),axis=0)"
      ],
      "execution_count": null,
      "outputs": []
    },
    {
      "cell_type": "code",
      "metadata": {
        "colab": {
          "base_uri": "https://localhost:8080/"
        },
        "id": "ZM-z13e6kDR2",
        "outputId": "a99aca42-a08d-4559-c997-5c0c7b431532"
      },
      "source": [
        "print(x)"
      ],
      "execution_count": null,
      "outputs": [
        {
          "output_type": "stream",
          "text": [
            "           TV     Radio  Newspaper\n",
            "0    0.967425  0.979066   1.774493\n",
            "1   -1.194379  1.080097   0.667903\n",
            "2   -1.512360  1.524637   1.779084\n",
            "3    0.051919  1.214806   1.283185\n",
            "4    0.393196 -0.839507   1.278593\n",
            "..        ...       ...        ...\n",
            "195 -1.267759 -1.317724  -0.769287\n",
            "196 -0.615491 -1.236899  -1.031011\n",
            "197  0.348934 -0.940539  -1.109069\n",
            "198  1.590574  1.261955   1.636743\n",
            "199  0.990720 -0.987687  -1.003461\n",
            "\n",
            "[200 rows x 3 columns]\n"
          ],
          "name": "stdout"
        }
      ]
    },
    {
      "cell_type": "code",
      "metadata": {
        "id": "zUkrtw78Uyc_"
      },
      "source": [
        "#Implementing Gradient Descent Algorithm\r\n",
        "#Random Initialization of the Bias & Weights\r\n",
        "import random\r\n",
        "def Initialize(dim):\r\n",
        "  np.random.seed(seed=42)\r\n",
        "  #initializae the bias\r\n",
        "  b=random.random()\r\n",
        "  #Initalize the weights\r\n",
        "  w=np.random.rand(dim)\r\n",
        "\r\n",
        "  return b, w\r\n",
        "\r\n",
        "#dim is the number of weights to be initalized besides the bias."
      ],
      "execution_count": null,
      "outputs": []
    },
    {
      "cell_type": "code",
      "metadata": {
        "colab": {
          "base_uri": "https://localhost:8080/"
        },
        "id": "HqIyRzY5WXlE",
        "outputId": "544ded6d-c8f4-4b3a-b64a-55b16d890f22"
      },
      "source": [
        "b, w = Initialize(3)\r\n",
        "print(\"Bias:\",b , \"weights:\", w)"
      ],
      "execution_count": null,
      "outputs": [
        {
          "output_type": "stream",
          "text": [
            "Bias: 0.01446448141534451 weights: [0.37454012 0.95071431 0.73199394]\n"
          ],
          "name": "stdout"
        }
      ]
    },
    {
      "cell_type": "code",
      "metadata": {
        "id": "kRle7KA3WlOE"
      },
      "source": [
        "def predict_y( b, w, x):\r\n",
        "  return b + np.dot(x,w)\r\n"
      ],
      "execution_count": null,
      "outputs": []
    },
    {
      "cell_type": "code",
      "metadata": {
        "colab": {
          "base_uri": "https://localhost:8080/"
        },
        "id": "rMnnJhmLgwnz",
        "outputId": "bbf18c36-919b-42c4-bef2-d4afad7bba59"
      },
      "source": [
        "x.shape\r\n",
        "w.shape"
      ],
      "execution_count": null,
      "outputs": [
        {
          "output_type": "execute_result",
          "data": {
            "text/plain": [
              "(3,)"
            ]
          },
          "metadata": {
            "tags": []
          },
          "execution_count": 8
        }
      ]
    },
    {
      "cell_type": "code",
      "metadata": {
        "colab": {
          "base_uri": "https://localhost:8080/"
        },
        "id": "E30rFpO8cP13",
        "outputId": "a55ffc4b-2904-4cb1-a06f-e428a3e4099f"
      },
      "source": [
        "print(x.shape)"
      ],
      "execution_count": null,
      "outputs": [
        {
          "output_type": "stream",
          "text": [
            "(200, 3)\n"
          ],
          "name": "stdout"
        }
      ]
    },
    {
      "cell_type": "code",
      "metadata": {
        "colab": {
          "base_uri": "https://localhost:8080/"
        },
        "id": "Og_txx1NaJ_0",
        "outputId": "f0b2c003-538e-4a67-daeb-c304534aa994"
      },
      "source": [
        "b, w = Initialize(3)\r\n",
        "y_hat=predict_y(b,w,x)\r\n",
        "y_hat[0:10]"
      ],
      "execution_count": null,
      "outputs": [
        {
          "output_type": "execute_result",
          "data": {
            "text/plain": [
              "array([ 3.25548383,  1.73183699,  2.84874903,  2.77707852,  0.94847385,\n",
              "        3.19535325,  0.64633226, -0.32536618, -2.28910673, -0.74404157])"
            ]
          },
          "metadata": {
            "tags": []
          },
          "execution_count": 24
        }
      ]
    },
    {
      "cell_type": "code",
      "metadata": {
        "id": "bSTP4_dJab99"
      },
      "source": [
        "#Calculating Mean Squared Error\r\n",
        "#Calculating Difference between Estimated & Actual\r\n",
        "import math\r\n",
        "def get_cost(y,y_hat):\r\n",
        "  y_resid=y-y_hat#Calculating the residuals i.e. difference between actual & predicted values.\r\n",
        "  #then take the sum and divide by number of examples to calculate the mean\r\n",
        "\r\n",
        "  return np.sum(np.matmul(y_resid,y_resid))/len(y_resid)\r\n"
      ],
      "execution_count": null,
      "outputs": []
    },
    {
      "cell_type": "code",
      "metadata": {
        "colab": {
          "base_uri": "https://localhost:8080/"
        },
        "id": "nxJzveBHrz2H",
        "outputId": "f4da02a8-109c-4604-a57a-7fb8c3889957"
      },
      "source": [
        "b, w = Initialize(3)\r\n",
        "y_hat=predict_y(b,w,x)\r\n",
        "get_cost(y,y_hat)"
      ],
      "execution_count": null,
      "outputs": [
        {
          "output_type": "execute_result",
          "data": {
            "text/plain": [
              "1.645980440265177"
            ]
          },
          "metadata": {
            "tags": []
          },
          "execution_count": 28
        }
      ]
    },
    {
      "cell_type": "code",
      "metadata": {
        "id": "9kwaHB9csaIi"
      },
      "source": [
        "#Updating the bias & Weights\r\n",
        "def update_beta(x,y,y_hat,b_0,w_0,alpha):\r\n",
        "  #gradient of bias\r\n",
        "  db=(np.sum(y_hat-y)*2)/len(y)\r\n",
        "  # gradient of weights\r\n",
        "  dw=(np.dot((y_hat-y),x)*2)/len(y)\r\n",
        "\r\n",
        "  #update bias & weights\r\n",
        "  b_1=b_0-alpha*db\r\n",
        "  w_1=w_0-alpha*dw\r\n",
        "  return b_1,w_1\r\n"
      ],
      "execution_count": null,
      "outputs": []
    },
    {
      "cell_type": "code",
      "metadata": {
        "colab": {
          "base_uri": "https://localhost:8080/"
        },
        "id": "CIKnYdWxu41F",
        "outputId": "f198c780-f582-4635-e8c9-9f6e2b385495"
      },
      "source": [
        "b, w = Initialize(3)\r\n",
        "print(\"after initialization - Bias :\",b,\"weights:\",w)\r\n",
        "y_hat=predict_y(b,w,x)\r\n",
        "b,w = update_beta(x,y,y_hat,b,w,0.01)\r\n",
        "print(\"After update Bias :\",b,\"Weights :\",w)"
      ],
      "execution_count": null,
      "outputs": [
        {
          "output_type": "stream",
          "text": [
            "after initialization - Bias : 0.5547743703874939 weights: [0.37454012 0.95071431 0.73199394]\n",
            "After update Bias : 0.543678882979744 Weights : [0.38079093 0.9376953  0.71484883]\n"
          ],
          "name": "stdout"
        }
      ]
    },
    {
      "cell_type": "code",
      "metadata": {
        "id": "8lcHZdssvcD3"
      },
      "source": [
        "# Finding the Optiimal Bias & Weights\r\n",
        "# This can be done iteratively untill the cost is minimum & it can take several iterations and it is time consuming.\r\n",
        "# by running a fixed number of iterations and use the bias and weights as optimal values at the end\r\n",
        "# Run iterations untill the change in cost is small, that is , less than a predefined valye(0.001)\r\n",
        "\r\n",
        "def run_gradient_descent(x,y,alpha=0.01,num_iterations=500):\r\n",
        "  #initalize the bias & weights\r\n",
        "  b,w =Initialize(x.shape[1])\r\n",
        "  iter_num=0\r\n",
        "  # gd_iterations keeps track of the cost every 10 iterations\r\n",
        "  gd_iterations_df=pd.DataFrame(columns=['iterations','cost'])\r\n",
        "  result_idx=0\r\n",
        "  #Run the iteration in for loop\r\n",
        "  for each_iter in range(num_iterations):\r\n",
        "    # calculate the predicted value of Y\r\n",
        "    y_hat=predict_y(b,w,x)\r\n",
        "    #calculate the cost\r\n",
        "    this_cost=get_cost(y,y_hat)\r\n",
        "    #Save the Previous bias and weights\r\n",
        "    prev_b=b\r\n",
        "    prev_w=w\r\n",
        "    #update and calculate the new values of bias and weights\r\n",
        "    b,w = update_beta(x,y,y_hat,prev_b,prev_w,alpha)\r\n",
        "\r\n",
        "    # for every 10 iterations store the cost i.e. MSE\r\n",
        "    if (iter_num % 10 == 0):\r\n",
        "      gd_iterations_df.loc[result_idx]=[iter_num,this_cost]\r\n",
        "      result_idx+=1\r\n",
        "    iter_num+=1\r\n",
        "  print(\"Final estimate of b and w :\", b,w)\r\n",
        "  #return the final bias, weights and the cost at the end\r\n",
        "  return gd_iterations_df,b,w\r\n",
        "\r\n"
      ],
      "execution_count": null,
      "outputs": []
    },
    {
      "cell_type": "code",
      "metadata": {
        "colab": {
          "base_uri": "https://localhost:8080/"
        },
        "id": "k2i4hP7f4Oij",
        "outputId": "d98788cd-55be-441c-e1e1-690e41f6a71b"
      },
      "source": [
        "gd_iterations_df,b,w=run_gradient_descent(x,y,alpha=0.001,num_iterations=100)"
      ],
      "execution_count": null,
      "outputs": [
        {
          "output_type": "stream",
          "text": [
            "Final estimate of b and w : 0.2962297342137332 [0.43270098 0.83742681 0.5799534 ]\n"
          ],
          "name": "stdout"
        }
      ]
    },
    {
      "cell_type": "code",
      "metadata": {
        "colab": {
          "base_uri": "https://localhost:8080/",
          "height": 343
        },
        "id": "-Stzzl6K4ZqF",
        "outputId": "3ebcf249-92d4-41cb-e36b-80ba99a99e98"
      },
      "source": [
        "gd_iterations_df[0:10]"
      ],
      "execution_count": null,
      "outputs": [
        {
          "output_type": "execute_result",
          "data": {
            "text/html": [
              "<div>\n",
              "<style scoped>\n",
              "    .dataframe tbody tr th:only-of-type {\n",
              "        vertical-align: middle;\n",
              "    }\n",
              "\n",
              "    .dataframe tbody tr th {\n",
              "        vertical-align: top;\n",
              "    }\n",
              "\n",
              "    .dataframe thead th {\n",
              "        text-align: right;\n",
              "    }\n",
              "</style>\n",
              "<table border=\"1\" class=\"dataframe\">\n",
              "  <thead>\n",
              "    <tr style=\"text-align: right;\">\n",
              "      <th></th>\n",
              "      <th>iterations</th>\n",
              "      <th>cost</th>\n",
              "    </tr>\n",
              "  </thead>\n",
              "  <tbody>\n",
              "    <tr>\n",
              "      <th>0</th>\n",
              "      <td>0.0</td>\n",
              "      <td>1.252407</td>\n",
              "    </tr>\n",
              "    <tr>\n",
              "      <th>1</th>\n",
              "      <td>10.0</td>\n",
              "      <td>1.198205</td>\n",
              "    </tr>\n",
              "    <tr>\n",
              "      <th>2</th>\n",
              "      <td>20.0</td>\n",
              "      <td>1.146628</td>\n",
              "    </tr>\n",
              "    <tr>\n",
              "      <th>3</th>\n",
              "      <td>30.0</td>\n",
              "      <td>1.097548</td>\n",
              "    </tr>\n",
              "    <tr>\n",
              "      <th>4</th>\n",
              "      <td>40.0</td>\n",
              "      <td>1.050839</td>\n",
              "    </tr>\n",
              "    <tr>\n",
              "      <th>5</th>\n",
              "      <td>50.0</td>\n",
              "      <td>1.006386</td>\n",
              "    </tr>\n",
              "    <tr>\n",
              "      <th>6</th>\n",
              "      <td>60.0</td>\n",
              "      <td>0.964076</td>\n",
              "    </tr>\n",
              "    <tr>\n",
              "      <th>7</th>\n",
              "      <td>70.0</td>\n",
              "      <td>0.923803</td>\n",
              "    </tr>\n",
              "    <tr>\n",
              "      <th>8</th>\n",
              "      <td>80.0</td>\n",
              "      <td>0.885469</td>\n",
              "    </tr>\n",
              "    <tr>\n",
              "      <th>9</th>\n",
              "      <td>90.0</td>\n",
              "      <td>0.848976</td>\n",
              "    </tr>\n",
              "  </tbody>\n",
              "</table>\n",
              "</div>"
            ],
            "text/plain": [
              "   iterations      cost\n",
              "0         0.0  1.252407\n",
              "1        10.0  1.198205\n",
              "2        20.0  1.146628\n",
              "3        30.0  1.097548\n",
              "4        40.0  1.050839\n",
              "5        50.0  1.006386\n",
              "6        60.0  0.964076\n",
              "7        70.0  0.923803\n",
              "8        80.0  0.885469\n",
              "9        90.0  0.848976"
            ]
          },
          "metadata": {
            "tags": []
          },
          "execution_count": 34
        }
      ]
    },
    {
      "cell_type": "code",
      "metadata": {
        "id": "XHlvY5244ieH"
      },
      "source": [
        "import matplotlib.pyplot as plt\r\n",
        "import seaborn as sn\r\n",
        "%matplotlib inline\r\n"
      ],
      "execution_count": null,
      "outputs": []
    },
    {
      "cell_type": "code",
      "metadata": {
        "colab": {
          "base_uri": "https://localhost:8080/",
          "height": 296
        },
        "id": "MlUhw1Wr5Aum",
        "outputId": "bc13ecb8-ca22-4a21-c7ac-c33947cd2529"
      },
      "source": [
        "plt.plot(gd_iterations_df['iterations'],gd_iterations_df['cost']);\r\n",
        "plt.xlabel(\"Number of Iterations\")\r\n",
        "plt.ylabel(\"cost of MSE\")"
      ],
      "execution_count": null,
      "outputs": [
        {
          "output_type": "execute_result",
          "data": {
            "text/plain": [
              "Text(0, 0.5, 'cost of MSE')"
            ]
          },
          "metadata": {
            "tags": []
          },
          "execution_count": 36
        },
        {
          "output_type": "display_data",
          "data": {
            "image/png": "[encoded data removed]",
            "text/plain": [
              "<Figure size 432x288 with 1 Axes>"
            ]
          },
          "metadata": {
            "tags": [],
            "needs_background": "light"
          }
        }
      ]
    },
    {
      "cell_type": "code",
      "metadata": {
        "colab": {
          "base_uri": "https://localhost:8080/"
        },
        "id": "MwSOGOCbZigF",
        "outputId": "9cf21159-981e-4ba1-ee23-f74f8d913658"
      },
      "source": [
        "print(\"final estimates of b and w :\",b , w)"
      ],
      "execution_count": null,
      "outputs": [
        {
          "output_type": "stream",
          "text": [
            "final estimates of b and w : 0.2962297342137332 [0.43270098 0.83742681 0.5799534 ]\n"
          ],
          "name": "stdout"
        }
      ]
    },
    {
      "cell_type": "code",
      "metadata": {
        "colab": {
          "base_uri": "https://localhost:8080/"
        },
        "id": "5cpWfhA6Zz-c",
        "outputId": "b11aa9fa-b0c4-4ba0-b9df-7e397e3469f4"
      },
      "source": [
        "alpha_df_1,b,w=run_gradient_descent(x,y,alpha=0.01,num_iterations=2000)\r\n",
        "alpha_df_2,b,w=run_gradient_descent(x,y,alpha=0.001,num_iterations=2000)"
      ],
      "execution_count": null,
      "outputs": [
        {
          "output_type": "stream",
          "text": [
            "Final estimate of b and w : 2.7767536948547504e-16 [ 0.75306591  0.53648155 -0.00433069]\n",
            "Final estimate of b and w : 0.0017433763145125384 [0.74315125 0.52779959 0.01171703]\n"
          ],
          "name": "stdout"
        }
      ]
    },
    {
      "cell_type": "code",
      "metadata": {
        "colab": {
          "base_uri": "https://localhost:8080/",
          "height": 312
        },
        "id": "W5lR8eoSavL0",
        "outputId": "aebf2208-5a85-4a00-bcf2-0e3994652e06"
      },
      "source": [
        "plt.plot(alpha_df_1['iterations'],alpha_df_1['cost'],label=\"0.01\")\r\n",
        "plt.plot(alpha_df_2['iterations'],alpha_df_2['cost'],label=\"0.001\")\r\n",
        "plt.legend()\r\n",
        "plt.ylabel('cost')\r\n",
        "plt.xlabel(\"No of iterations\")\r\n",
        "plt.title(\"cost vs Iterations for different alpha values\")"
      ],
      "execution_count": null,
      "outputs": [
        {
          "output_type": "execute_result",
          "data": {
            "text/plain": [
              "Text(0.5, 1.0, 'cost vs Iterations for different alpha values')"
            ]
          },
          "metadata": {
            "tags": []
          },
          "execution_count": 39
        },
        {
          "output_type": "display_data",
          "data": {
            "image/png": "[encoded data removed]",
            "text/plain": [
              "<Figure size 432x288 with 1 Axes>"
            ]
          },
          "metadata": {
            "tags": [],
            "needs_background": "light"
          }
        }
      ]
    },
    {
      "cell_type": "code",
      "metadata": {
        "id": "xKI129OKbIC4"
      },
      "source": [
        "#USING SCIKIT LEARN\r\n",
        "from sklearn.model_selection import train_test_split\r\n",
        "x_train,x_test,y_train,y_test = train_test_split(sales_df[['TV','Radio','Newspaper']],\r\n",
        "                                                 sales_df.Sales,test_size=0.3,random_state = 42)"
      ],
      "execution_count": null,
      "outputs": []
    },
    {
      "cell_type": "code",
      "metadata": {
        "colab": {
          "base_uri": "https://localhost:8080/"
        },
        "id": "FR2AOWPQF5Gl",
        "outputId": "10adf8eb-b751-42d9-9c2d-106857e622cf"
      },
      "source": [
        "len(x_train)"
      ],
      "execution_count": null,
      "outputs": [
        {
          "output_type": "execute_result",
          "data": {
            "text/plain": [
              "140"
            ]
          },
          "metadata": {
            "tags": []
          },
          "execution_count": 45
        }
      ]
    },
    {
      "cell_type": "code",
      "metadata": {
        "colab": {
          "base_uri": "https://localhost:8080/"
        },
        "id": "AbRbM6oyieYn",
        "outputId": "943891bd-4b72-4db1-ae2b-1c900c9dd9d9"
      },
      "source": [
        "print(y_test)"
      ],
      "execution_count": null,
      "outputs": [
        {
          "output_type": "stream",
          "text": [
            "95     16.9\n",
            "15     22.4\n",
            "30     21.4\n",
            "158     7.3\n",
            "128    24.7\n",
            "115    12.6\n",
            "69     22.3\n",
            "170     8.4\n",
            "174    11.5\n",
            "45     14.9\n",
            "66      9.5\n",
            "182     8.7\n",
            "165    11.9\n",
            "78      5.3\n",
            "186    10.3\n",
            "177    11.7\n",
            "56      5.5\n",
            "152    16.6\n",
            "82     11.3\n",
            "68     18.9\n",
            "124    19.7\n",
            "16     12.5\n",
            "148    10.9\n",
            "93     22.2\n",
            "65      9.3\n",
            "60      8.1\n",
            "84     21.7\n",
            "67     13.4\n",
            "125    10.6\n",
            "132     5.7\n",
            "9      10.6\n",
            "18     11.3\n",
            "55     23.7\n",
            "75      8.7\n",
            "150    16.1\n",
            "104    20.7\n",
            "135    11.6\n",
            "137    20.8\n",
            "164    11.9\n",
            "76      6.9\n",
            "79     11.0\n",
            "197    12.8\n",
            "38     10.1\n",
            "24      9.7\n",
            "122    11.6\n",
            "195     7.6\n",
            "29     10.5\n",
            "19     14.6\n",
            "143    10.4\n",
            "86     12.0\n",
            "114    14.6\n",
            "173    11.7\n",
            "5       7.2\n",
            "126     6.6\n",
            "117     9.4\n",
            "73     11.0\n",
            "140    10.9\n",
            "98     25.4\n",
            "172     7.6\n",
            "96     11.7\n",
            "Name: Sales, dtype: float64\n"
          ],
          "name": "stdout"
        }
      ]
    },
    {
      "cell_type": "code",
      "metadata": {
        "colab": {
          "base_uri": "https://localhost:8080/"
        },
        "id": "qPP9ULbgdZ8k",
        "outputId": "34cc9b97-4562-420c-8e0d-1b9d2689198b"
      },
      "source": [
        "len(x_test)"
      ],
      "execution_count": null,
      "outputs": [
        {
          "output_type": "execute_result",
          "data": {
            "text/plain": [
              "60"
            ]
          },
          "metadata": {
            "tags": []
          },
          "execution_count": 46
        }
      ]
    },
    {
      "cell_type": "code",
      "metadata": {
        "colab": {
          "base_uri": "https://localhost:8080/"
        },
        "id": "qon80yx7dcoc",
        "outputId": "adb953b1-d36b-43f9-e2d8-6cf43bcab5c7"
      },
      "source": [
        "from sklearn.linear_model import LinearRegression\r\n",
        "#Initialization of the Model\r\n",
        "linreg = LinearRegression()\r\n",
        "linreg.fit(x_train,y_train)"
      ],
      "execution_count": null,
      "outputs": [
        {
          "output_type": "execute_result",
          "data": {
            "text/plain": [
              "LinearRegression(copy_X=True, fit_intercept=True, n_jobs=None, normalize=False)"
            ]
          },
          "metadata": {
            "tags": []
          },
          "execution_count": 47
        }
      ]
    },
    {
      "cell_type": "code",
      "metadata": {
        "colab": {
          "base_uri": "https://localhost:8080/"
        },
        "id": "yD3gbPc3e3qS",
        "outputId": "e1c48a3b-c8be-4177-b06a-ebbc06095d1e"
      },
      "source": [
        "linreg.intercept_"
      ],
      "execution_count": null,
      "outputs": [
        {
          "output_type": "execute_result",
          "data": {
            "text/plain": [
              "2.7089490925159048"
            ]
          },
          "metadata": {
            "tags": []
          },
          "execution_count": 49
        }
      ]
    },
    {
      "cell_type": "code",
      "metadata": {
        "colab": {
          "base_uri": "https://localhost:8080/"
        },
        "id": "hw6tSCsTfnWe",
        "outputId": "1bc7dcb7-bad4-4a6e-de42-b463746481e3"
      },
      "source": [
        "linreg.coef_"
      ],
      "execution_count": null,
      "outputs": [
        {
          "output_type": "execute_result",
          "data": {
            "text/plain": [
              "array([0.04405928, 0.1992875 , 0.00688245])"
            ]
          },
          "metadata": {
            "tags": []
          },
          "execution_count": 50
        }
      ]
    },
    {
      "cell_type": "code",
      "metadata": {
        "colab": {
          "base_uri": "https://localhost:8080/"
        },
        "id": "2bjJlOfhfyqY",
        "outputId": "30180f12-dfb0-456d-87a2-4f4de526e51a"
      },
      "source": [
        "dict(zip(['TV','Radio','Newspaper'],linreg.coef_))"
      ],
      "execution_count": null,
      "outputs": [
        {
          "output_type": "execute_result",
          "data": {
            "text/plain": [
              "{'Newspaper': 0.006882452222275487,\n",
              " 'Radio': 0.19928749689893954,\n",
              " 'TV': 0.044059280957465224}"
            ]
          },
          "metadata": {
            "tags": []
          },
          "execution_count": 53
        }
      ]
    },
    {
      "cell_type": "code",
      "metadata": {
        "id": "jgU4ievmgUat"
      },
      "source": [
        "#predicting Yvalues\r\n",
        "y_pred=linreg.predict(x_test)"
      ],
      "execution_count": null,
      "outputs": []
    },
    {
      "cell_type": "code",
      "metadata": {
        "id": "u9-kcWK3g9ck"
      },
      "source": [
        "test_pred_df=pd.DataFrame({'Actual':y_test,'Predicted':np.round(y_pred,2),'Residuals':y_test-y_pred})"
      ],
      "execution_count": null,
      "outputs": []
    },
    {
      "cell_type": "code",
      "metadata": {
        "colab": {
          "base_uri": "https://localhost:8080/",
          "height": 195
        },
        "id": "U1cZzqsVhwzR",
        "outputId": "8c57ce9c-d051-4527-d6e2-59e6e148dde7"
      },
      "source": [
        "test_pred_df.head()"
      ],
      "execution_count": null,
      "outputs": [
        {
          "output_type": "execute_result",
          "data": {
            "text/html": [
              "<div>\n",
              "<style scoped>\n",
              "    .dataframe tbody tr th:only-of-type {\n",
              "        vertical-align: middle;\n",
              "    }\n",
              "\n",
              "    .dataframe tbody tr th {\n",
              "        vertical-align: top;\n",
              "    }\n",
              "\n",
              "    .dataframe thead th {\n",
              "        text-align: right;\n",
              "    }\n",
              "</style>\n",
              "<table border=\"1\" class=\"dataframe\">\n",
              "  <thead>\n",
              "    <tr style=\"text-align: right;\">\n",
              "      <th></th>\n",
              "      <th>Actual</th>\n",
              "      <th>Predicted</th>\n",
              "      <th>Residuals</th>\n",
              "    </tr>\n",
              "  </thead>\n",
              "  <tbody>\n",
              "    <tr>\n",
              "      <th>95</th>\n",
              "      <td>16.9</td>\n",
              "      <td>16.57</td>\n",
              "      <td>0.334604</td>\n",
              "    </tr>\n",
              "    <tr>\n",
              "      <th>15</th>\n",
              "      <td>22.4</td>\n",
              "      <td>21.19</td>\n",
              "      <td>1.211772</td>\n",
              "    </tr>\n",
              "    <tr>\n",
              "      <th>30</th>\n",
              "      <td>21.4</td>\n",
              "      <td>21.55</td>\n",
              "      <td>-0.151071</td>\n",
              "    </tr>\n",
              "    <tr>\n",
              "      <th>158</th>\n",
              "      <td>7.3</td>\n",
              "      <td>10.89</td>\n",
              "      <td>-3.589238</td>\n",
              "    </tr>\n",
              "    <tr>\n",
              "      <th>128</th>\n",
              "      <td>24.7</td>\n",
              "      <td>22.20</td>\n",
              "      <td>2.497680</td>\n",
              "    </tr>\n",
              "  </tbody>\n",
              "</table>\n",
              "</div>"
            ],
            "text/plain": [
              "     Actual  Predicted  Residuals\n",
              "95     16.9      16.57   0.334604\n",
              "15     22.4      21.19   1.211772\n",
              "30     21.4      21.55  -0.151071\n",
              "158     7.3      10.89  -3.589238\n",
              "128    24.7      22.20   2.497680"
            ]
          },
          "metadata": {
            "tags": []
          },
          "execution_count": 60
        }
      ]
    },
    {
      "cell_type": "code",
      "metadata": {
        "colab": {
          "base_uri": "https://localhost:8080/"
        },
        "id": "8vbagdHXiOGN",
        "outputId": "241e634b-7a4c-4534-ff3a-07e48ef91891"
      },
      "source": [
        "from sklearn import  metrics\r\n",
        "r2 = metrics.r2_score(y_train,linreg.predict(x_train))\r\n",
        "print(\"R Squared: \",r2)\r\n",
        "#The model explains 90% of variance in Y"
      ],
      "execution_count": null,
      "outputs": [
        {
          "output_type": "stream",
          "text": [
            "R Squared:  0.9055159502227753\n"
          ],
          "name": "stdout"
        }
      ]
    },
    {
      "cell_type": "code",
      "metadata": {
        "colab": {
          "base_uri": "https://localhost:8080/"
        },
        "id": "SGEtRHfYmM0Z",
        "outputId": "61f7bb8d-9e87-48cf-fd88-93593ae1de45"
      },
      "source": [
        "mse = metrics.mean_squared_error(y_test,y_pred)\r\n",
        "rmse=round(np.sqrt(mse),2)\r\n",
        "print(\"RMSE:\",rmse)\r\n",
        "#the model prediction has a standard deviation 1.95"
      ],
      "execution_count": null,
      "outputs": [
        {
          "output_type": "stream",
          "text": [
            "RMSE: 1.95\n"
          ],
          "name": "stdout"
        }
      ]
    },
    {
      "cell_type": "code",
      "metadata": {
        "id": "UIMacKsvoDYa"
      },
      "source": [
        "#HIGH BIAS CAN LEAD TO BUILDING UNDERFITTING MODEL, \r\n",
        "#HIGH VARIANCE CAN LEAD TO OVER FITTING MODEL\r\n",
        "\r\n"
      ],
      "execution_count": null,
      "outputs": []
    }
  ]
}